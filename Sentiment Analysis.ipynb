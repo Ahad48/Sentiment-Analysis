{
 "cells": [
  {
   "cell_type": "code",
   "execution_count": 1,
   "id": "402011cc",
   "metadata": {},
   "outputs": [],
   "source": [
    "import tensorflow as tf\n",
    "import pandas as pd\n",
    "import numpy as np\n",
    "import seaborn as sns\n",
    "import matplotlib.pyplot as plt\n",
    "import nltk\n",
    "from nltk.tokenize import word_tokenize\n",
    "from nltk.stem import WordNetLemmatizer\n",
    "from nltk.corpus import wordnet\n",
    "import re\n",
    "import string\n",
    "from bs4 import BeautifulSoup\n",
    "import contractions\n",
    "from multiprocessing import Pool\n",
    "from lemmatize import preprocess_text\n",
    "from sklearn.preprocessing import LabelBinarizer\n",
    "from sklearn.model_selection import train_test_split\n",
    "from sklearn.feature_extraction.text import CountVectorizer\n",
    "from sklearn.feature_extraction.text import TfidfVectorizer\n",
    "from sklearn.metrics import classification_report,confusion_matrix,accuracy_score\n",
    "from sklearn.linear_model import LogisticRegression\n",
    "from tensorflow.keras.preprocessing.text import Tokenizer\n",
    "from tensorflow.keras.preprocessing.sequence import pad_sequences\n",
    "from keras.utils import np_utils\n",
    "from keras.layers import Dense, GlobalAveragePooling1D,LSTM,Embedding\n",
    "from keras import Sequential\n",
    "from keras.models import save_model, load_model\n",
    "import pickle"
   ]
  },
  {
   "cell_type": "code",
   "execution_count": 2,
   "id": "14053373",
   "metadata": {},
   "outputs": [
    {
     "name": "stderr",
     "output_type": "stream",
     "text": [
      "[nltk_data] Downloading package punkt to\n",
      "[nltk_data]     C:\\Users\\Ahad\\AppData\\Roaming\\nltk_data...\n",
      "[nltk_data]   Package punkt is already up-to-date!\n",
      "[nltk_data] Downloading package averaged_perceptron_tagger to\n",
      "[nltk_data]     C:\\Users\\Ahad\\AppData\\Roaming\\nltk_data...\n",
      "[nltk_data]   Package averaged_perceptron_tagger is already up-to-\n",
      "[nltk_data]       date!\n",
      "[nltk_data] Downloading package wordnet to\n",
      "[nltk_data]     C:\\Users\\Ahad\\AppData\\Roaming\\nltk_data...\n",
      "[nltk_data]   Package wordnet is already up-to-date!\n",
      "[nltk_data] Downloading package stopwords to\n",
      "[nltk_data]     C:\\Users\\Ahad\\AppData\\Roaming\\nltk_data...\n",
      "[nltk_data]   Package stopwords is already up-to-date!\n"
     ]
    },
    {
     "data": {
      "text/plain": [
       "True"
      ]
     },
     "execution_count": 2,
     "metadata": {},
     "output_type": "execute_result"
    }
   ],
   "source": [
    "nltk.download('punkt')\n",
    "nltk.download('averaged_perceptron_tagger')\n",
    "nltk.download('wordnet')\n",
    "nltk.download('stopwords')"
   ]
  },
  {
   "cell_type": "markdown",
   "id": "a13269fe",
   "metadata": {},
   "source": [
    "## Preprocessing\n"
   ]
  },
  {
   "cell_type": "code",
   "execution_count": 3,
   "id": "868e30d8",
   "metadata": {},
   "outputs": [],
   "source": [
    "df = pd.read_csv(\"IMDB Dataset.csv\")"
   ]
  },
  {
   "cell_type": "code",
   "execution_count": 4,
   "id": "c9edeb6e",
   "metadata": {
    "scrolled": true
   },
   "outputs": [
    {
     "data": {
      "text/html": [
       "<div>\n",
       "<style scoped>\n",
       "    .dataframe tbody tr th:only-of-type {\n",
       "        vertical-align: middle;\n",
       "    }\n",
       "\n",
       "    .dataframe tbody tr th {\n",
       "        vertical-align: top;\n",
       "    }\n",
       "\n",
       "    .dataframe thead th {\n",
       "        text-align: right;\n",
       "    }\n",
       "</style>\n",
       "<table border=\"1\" class=\"dataframe\">\n",
       "  <thead>\n",
       "    <tr style=\"text-align: right;\">\n",
       "      <th></th>\n",
       "      <th>review</th>\n",
       "      <th>sentiment</th>\n",
       "    </tr>\n",
       "  </thead>\n",
       "  <tbody>\n",
       "    <tr>\n",
       "      <th>0</th>\n",
       "      <td>One of the other reviewers has mentioned that ...</td>\n",
       "      <td>positive</td>\n",
       "    </tr>\n",
       "    <tr>\n",
       "      <th>1</th>\n",
       "      <td>A wonderful little production. &lt;br /&gt;&lt;br /&gt;The...</td>\n",
       "      <td>positive</td>\n",
       "    </tr>\n",
       "    <tr>\n",
       "      <th>2</th>\n",
       "      <td>I thought this was a wonderful way to spend ti...</td>\n",
       "      <td>positive</td>\n",
       "    </tr>\n",
       "    <tr>\n",
       "      <th>3</th>\n",
       "      <td>Basically there's a family where a little boy ...</td>\n",
       "      <td>negative</td>\n",
       "    </tr>\n",
       "    <tr>\n",
       "      <th>4</th>\n",
       "      <td>Petter Mattei's \"Love in the Time of Money\" is...</td>\n",
       "      <td>positive</td>\n",
       "    </tr>\n",
       "  </tbody>\n",
       "</table>\n",
       "</div>"
      ],
      "text/plain": [
       "                                              review sentiment\n",
       "0  One of the other reviewers has mentioned that ...  positive\n",
       "1  A wonderful little production. <br /><br />The...  positive\n",
       "2  I thought this was a wonderful way to spend ti...  positive\n",
       "3  Basically there's a family where a little boy ...  negative\n",
       "4  Petter Mattei's \"Love in the Time of Money\" is...  positive"
      ]
     },
     "execution_count": 4,
     "metadata": {},
     "output_type": "execute_result"
    }
   ],
   "source": [
    "df.head()"
   ]
  },
  {
   "cell_type": "code",
   "execution_count": 5,
   "id": "a4ccb0a7",
   "metadata": {},
   "outputs": [
    {
     "data": {
      "text/html": [
       "<div>\n",
       "<style scoped>\n",
       "    .dataframe tbody tr th:only-of-type {\n",
       "        vertical-align: middle;\n",
       "    }\n",
       "\n",
       "    .dataframe tbody tr th {\n",
       "        vertical-align: top;\n",
       "    }\n",
       "\n",
       "    .dataframe thead th {\n",
       "        text-align: right;\n",
       "    }\n",
       "</style>\n",
       "<table border=\"1\" class=\"dataframe\">\n",
       "  <thead>\n",
       "    <tr style=\"text-align: right;\">\n",
       "      <th></th>\n",
       "      <th>review</th>\n",
       "      <th>sentiment</th>\n",
       "    </tr>\n",
       "  </thead>\n",
       "  <tbody>\n",
       "    <tr>\n",
       "      <th>count</th>\n",
       "      <td>50000</td>\n",
       "      <td>50000</td>\n",
       "    </tr>\n",
       "    <tr>\n",
       "      <th>unique</th>\n",
       "      <td>49582</td>\n",
       "      <td>2</td>\n",
       "    </tr>\n",
       "    <tr>\n",
       "      <th>top</th>\n",
       "      <td>Loved today's show!!! It was a variety and not...</td>\n",
       "      <td>positive</td>\n",
       "    </tr>\n",
       "    <tr>\n",
       "      <th>freq</th>\n",
       "      <td>5</td>\n",
       "      <td>25000</td>\n",
       "    </tr>\n",
       "  </tbody>\n",
       "</table>\n",
       "</div>"
      ],
      "text/plain": [
       "                                                   review sentiment\n",
       "count                                               50000     50000\n",
       "unique                                              49582         2\n",
       "top     Loved today's show!!! It was a variety and not...  positive\n",
       "freq                                                    5     25000"
      ]
     },
     "execution_count": 5,
     "metadata": {},
     "output_type": "execute_result"
    }
   ],
   "source": [
    "df.describe()"
   ]
  },
  {
   "cell_type": "code",
   "execution_count": 15,
   "id": "7c226b53",
   "metadata": {},
   "outputs": [],
   "source": [
    "def preprocess_text(text:str)->str:\n",
    "\n",
    "    def get_pos(word:str, lemma:bool = False)->str:\n",
    "\n",
    "        tag = nltk.pos_tag([word])[0][1][0].upper()\n",
    "        tag_dict = {\"J\": wordnet.ADJ,\n",
    "                    \"N\": wordnet.NOUN,\n",
    "                    \"V\": wordnet.VERB,\n",
    "                    \"R\": wordnet.ADV}\n",
    "\n",
    "        return tag_dict.get(tag, wordnet.NOUN)\n",
    "\n",
    "    # Give error if input is not string\n",
    "    assert isinstance(text, str), \"Input variable should be a string\"\n",
    "    \n",
    "    # Remove the html content and return the clean text\n",
    "    text = BeautifulSoup(text, \"lxml\").text\n",
    "    \n",
    "    # Remove \\n and \\t\n",
    "    text = re.sub(r'\\n\\t','',text)\n",
    "    \n",
    "    # Remove email ids\n",
    "    text = re.sub(r'\\S*@\\S*\\s?','',text)\n",
    "    \n",
    "    # Remove urls\n",
    "    pattern = r'\\b((?:https?://)?(?:(?:www\\.)?(?:[\\da-z\\.-]+)\\.(?:[a-z]{2,6})|(?:(?:25[0-5]|2[0-4][0-9]|[01]?[0-9][0-9]?)\\.){3}(?:25[0-5]|2[0-4][0-9]|[01]?[0-9][0-9]?)|(?:(?:[0-9a-fA-F]{1,4}:){7,7}[0-9a-fA-F]{1,4}|(?:[0-9a-fA-F]{1,4}:){1,7}:|(?:[0-9a-fA-F]{1,4}:){1,6}:[0-9a-fA-F]{1,4}|(?:[0-9a-fA-F]{1,4}:){1,5}(?::[0-9a-fA-F]{1,4}){1,2}|(?:[0-9a-fA-F]{1,4}:){1,4}(?::[0-9a-fA-F]{1,4}){1,3}|(?:[0-9a-fA-F]{1,4}:){1,3}(?::[0-9a-fA-F]{1,4}){1,4}|(?:[0-9a-fA-F]{1,4}:){1,2}(?::[0-9a-fA-F]{1,4}){1,5}|[0-9a-fA-F]{1,4}:(?:(?::[0-9a-fA-F]{1,4}){1,6})|:(?:(?::[0-9a-fA-F]{1,4}){1,7}|:)|fe80:(?::[0-9a-fA-F]{0,4}){0,4}%[0-9a-zA-Z]{1,}|::(?:ffff(?::0{1,4}){0,1}:){0,1}(?:(?:25[0-5]|(?:2[0-4]|1{0,1}[0-9]){0,1}[0-9])\\.){3,3}(?:25[0-5]|(?:2[0-4]|1{0,1}[0-9]){0,1}[0-9])|(?:[0-9a-fA-F]{1,4}:){1,4}:(?:(?:25[0-5]|(?:2[0-4]|1{0,1}[0-9]){0,1}[0-9])\\.){3,3}(?:25[0-5]|(?:2[0-4]|1{0,1}[0-9]){0,1}[0-9])))(?::[0-9]{1,4}|[1-5][0-9]{4}|6[0-4][0-9]{3}|65[0-4][0-9]{2}|655[0-2][0-9]|6553[0-5])?(?:/[\\w\\.-]*)*/?)\\b'\n",
    "    text = re.sub(pattern,'', text)\n",
    "    \n",
    "    # Fix contractions\n",
    "    text = contractions.fix(text)\n",
    "    \n",
    "    # Remove Punctuations\n",
    "    text = re.sub(r'[^\\w\\s]','',text)\n",
    "    \n",
    "    # Remove number from the text\n",
    "    text = re.sub(r'[0-9]','',text)\n",
    "    \n",
    "    # Remove extra spaces fromt he text\n",
    "    text = re.sub(' +',' ',text)\n",
    "    \n",
    "    # Lowercase the text\n",
    "    text = text.lower()\n",
    "    \n",
    "    if lemma:\n",
    "        # Tokenize\n",
    "        tokens = word_tokenize(text)\n",
    "\n",
    "        lemmatizer = WordNetLemmatizer()\n",
    "        words = [lemmatizer.lemmatize(word, get_pos(word)) for word in tokens]\n",
    "\n",
    "        text = ' '.join(words)\n",
    "    \n",
    "    return text"
   ]
  },
  {
   "cell_type": "code",
   "execution_count": 10,
   "id": "7d1007fb",
   "metadata": {},
   "outputs": [],
   "source": [
    "# Import parallel processing module\n",
    "from multiprocesspandas import applyparallel"
   ]
  },
  {
   "cell_type": "code",
   "execution_count": 12,
   "id": "028d75e7",
   "metadata": {},
   "outputs": [],
   "source": [
    "# Apply Preprocessing to the data\n",
    "df[\"cleaned_review\"] = df[\"review\"].apply_parallel(preprocess_text,num_processes = 6)"
   ]
  },
  {
   "cell_type": "code",
   "execution_count": 29,
   "id": "8db6b55a",
   "metadata": {},
   "outputs": [
    {
     "name": "stdout",
     "output_type": "stream",
     "text": [
      "Before Preprocessing\n",
      "\n"
     ]
    },
    {
     "data": {
      "text/plain": [
       "'I enjoyed this film. The way these mutants looked, along with the tone of the film, is very good. Plus, David Cronenberg as Philip K. Decker was great! It makes me wonder if his personality is exactly the same in real life (except for the killings of course).<br /><br />I was impressed with the creatures for this film, although this movie probably had a somewhat low budget, the mutants/creatures/monsters looked great, especially from 1990. This is definitely a unique film and not crap. It makes me want to go find a read the novella it\\'s based off of. This is an interesting film because it shows how humans can be monsters and the \"monsters\" are the one with humanity.'"
      ]
     },
     "execution_count": 29,
     "metadata": {},
     "output_type": "execute_result"
    }
   ],
   "source": [
    "print(\"Before Preprocessing\\n\")\n",
    "train[\"review\"].iloc[7]"
   ]
  },
  {
   "cell_type": "code",
   "execution_count": 30,
   "id": "8d2ff8c9",
   "metadata": {},
   "outputs": [
    {
     "name": "stdout",
     "output_type": "stream",
     "text": [
      "After preprocessing\n"
     ]
    },
    {
     "data": {
      "text/plain": [
       "'i enjoy this film the way these mutant look along with the tone of the film be very good plus david cronenberg a philip k decker be great it make me wonder if his personality be exactly the same in real life except for the killing of coursei be impressed with the creature for this film although this movie probably have a somewhat low budget the mutantscreaturesmonsters look great especially from this be definitely a unique film and not crap it make me want to go find a read the novella it be base off of this be an interest film because it show how human can be monster and the monster be the one with humanity'"
      ]
     },
     "execution_count": 30,
     "metadata": {},
     "output_type": "execute_result"
    }
   ],
   "source": [
    "print(\"After preprocessing\")\n",
    "train[\"cleaned_review\"].iloc[7]"
   ]
  },
  {
   "cell_type": "code",
   "execution_count": 14,
   "id": "83a07a47",
   "metadata": {},
   "outputs": [],
   "source": [
    "# Save the dataset for direct use\n",
    "df.to_csv(\"IMDB Dataset cleaned.csv\",index = False)"
   ]
  },
  {
   "cell_type": "markdown",
   "id": "57510140",
   "metadata": {},
   "source": [
    "### Train Test Split"
   ]
  },
  {
   "cell_type": "code",
   "execution_count": 20,
   "id": "c4ceddaf",
   "metadata": {},
   "outputs": [],
   "source": [
    "train,test = train_test_split(df, test_size= 0.2)"
   ]
  },
  {
   "cell_type": "markdown",
   "id": "dae49fc4",
   "metadata": {},
   "source": [
    "### Bag of words model and Tf-idf\n"
   ]
  },
  {
   "cell_type": "code",
   "execution_count": 31,
   "id": "48d1c735",
   "metadata": {},
   "outputs": [],
   "source": [
    "# Count vectorizer for bag of words\n",
    "cv=CountVectorizer(min_df=0,max_df=1,binary=False,ngram_range=(1,3))\n",
    "\n",
    "# Transformed train reviews\n",
    "cv_train_reviews=cv.fit_transform(train[\"cleaned_review\"].tolist())\n",
    "\n",
    "# Transforming the test set\n",
    "cv_test_reviews=cv.transform(test[\"cleaned_review\"].tolist())"
   ]
  },
  {
   "cell_type": "code",
   "execution_count": 33,
   "id": "acc3b97d",
   "metadata": {},
   "outputs": [
    {
     "name": "stdout",
     "output_type": "stream",
     "text": [
      "cv_train: (40000, 5777435)\n",
      "cv_test: (10000, 5777435)\n"
     ]
    }
   ],
   "source": [
    "print('cv_train:',cv_train_reviews.shape)\n",
    "print('cv_test:',cv_test_reviews.shape)"
   ]
  },
  {
   "cell_type": "code",
   "execution_count": 38,
   "id": "5dd65b7b",
   "metadata": {},
   "outputs": [
    {
     "name": "stdout",
     "output_type": "stream",
     "text": [
      "Tfidf_train: (40000, 5777435)\n",
      "Tfidf_test: (10000, 5777435)\n"
     ]
    }
   ],
   "source": [
    "# Tfidf vectorizer\n",
    "tv=TfidfVectorizer(min_df=0,max_df=1,use_idf=True,ngram_range=(1,3))\n",
    "\n",
    "# Transformed train reviews\n",
    "tv_train_reviews=tv.fit_transform(train[\"cleaned_review\"].tolist())\n",
    "\n",
    "# Transformed test reviews\n",
    "tv_test_reviews=tv.transform(test[\"cleaned_review\"].tolist())\n",
    "\n",
    "print('Tfidf_train:',tv_train_reviews.shape)\n",
    "print('Tfidf_test:',tv_test_reviews.shape)"
   ]
  },
  {
   "cell_type": "code",
   "execution_count": 40,
   "id": "227c66b5",
   "metadata": {},
   "outputs": [],
   "source": [
    "# Labelling the data\n",
    "lb = LabelBinarizer()\n",
    "\n",
    "train_sentiment = lb.fit_transform(train['sentiment'])\n",
    "test_sentiment = lb.transform(test['sentiment'])"
   ]
  },
  {
   "cell_type": "code",
   "execution_count": 39,
   "id": "503d932a",
   "metadata": {},
   "outputs": [
    {
     "data": {
      "text/plain": [
       "17753    positive\n",
       "42999    negative\n",
       "6349     negative\n",
       "1474     positive\n",
       "43181    negative\n",
       "           ...   \n",
       "30393    negative\n",
       "2999     negative\n",
       "42129    positive\n",
       "11684    negative\n",
       "8760     negative\n",
       "Name: sentiment, Length: 40000, dtype: object"
      ]
     },
     "execution_count": 39,
     "metadata": {},
     "output_type": "execute_result"
    }
   ],
   "source": [
    "train['sentiment']"
   ]
  },
  {
   "cell_type": "code",
   "execution_count": 41,
   "id": "254dc8e6",
   "metadata": {},
   "outputs": [
    {
     "data": {
      "text/plain": [
       "array([[1],\n",
       "       [0],\n",
       "       [0],\n",
       "       ...,\n",
       "       [1],\n",
       "       [0],\n",
       "       [0]])"
      ]
     },
     "execution_count": 41,
     "metadata": {},
     "output_type": "execute_result"
    }
   ],
   "source": [
    "train_sentiment"
   ]
  },
  {
   "cell_type": "markdown",
   "id": "dc50095e",
   "metadata": {},
   "source": [
    "### Training the logistic regression model"
   ]
  },
  {
   "cell_type": "code",
   "execution_count": 61,
   "id": "92d60910",
   "metadata": {},
   "outputs": [
    {
     "data": {
      "text/plain": [
       "array([1, 0, 0, ..., 1, 0, 0])"
      ]
     },
     "execution_count": 61,
     "metadata": {},
     "output_type": "execute_result"
    }
   ],
   "source": [
    "train_sentiment = train_sentiment.reshape(-1)\n",
    "test_sentiment = test_sentiment.reshape(-1)\n",
    "train_sentiment"
   ]
  },
  {
   "cell_type": "code",
   "execution_count": 119,
   "id": "736341f4",
   "metadata": {},
   "outputs": [],
   "source": [
    "# Training for countvectorizer\n",
    "\n",
    "lr=LogisticRegression(max_iter=512)\n",
    "\n",
    "cv_model = lr.fit(cv_train_reviews,train_sentiment)"
   ]
  },
  {
   "cell_type": "code",
   "execution_count": 120,
   "id": "2fbb6ac9",
   "metadata": {},
   "outputs": [],
   "source": [
    "cv_predict = lr.predict(cv_test_reviews)"
   ]
  },
  {
   "cell_type": "code",
   "execution_count": 121,
   "id": "3c069620",
   "metadata": {},
   "outputs": [],
   "source": [
    "cv_report=classification_report(test_sentiment,cv_predict,target_names=['Positive','Negative'])"
   ]
  },
  {
   "cell_type": "code",
   "execution_count": 122,
   "id": "62d573b6",
   "metadata": {},
   "outputs": [
    {
     "name": "stdout",
     "output_type": "stream",
     "text": [
      "              precision    recall  f1-score   support\n",
      "\n",
      "    Positive       0.60      0.95      0.74      5017\n",
      "    Negative       0.88      0.37      0.52      4983\n",
      "\n",
      "    accuracy                           0.66     10000\n",
      "   macro avg       0.74      0.66      0.63     10000\n",
      "weighted avg       0.74      0.66      0.63     10000\n",
      "\n"
     ]
    }
   ],
   "source": [
    "print(cv_report)"
   ]
  },
  {
   "cell_type": "code",
   "execution_count": 111,
   "id": "0773c85f",
   "metadata": {},
   "outputs": [
    {
     "data": {
      "text/plain": [
       "<AxesSubplot:>"
      ]
     },
     "execution_count": 111,
     "metadata": {},
     "output_type": "execute_result"
    },
    {
     "data": {
      "image/png": "[encoded data removed]",
      "text/plain": [
       "<Figure size 432x288 with 2 Axes>"
      ]
     },
     "metadata": {
      "needs_background": "light"
     },
     "output_type": "display_data"
    }
   ],
   "source": [
    "#confusion matrix for bag of words\n",
    "cv_confusion_matrix=confusion_matrix(test_sentiment,cv_predict,labels=[1,0])\n",
    "sns.heatmap(cv_confusion_matrix,annot=True,fmt = 'd')"
   ]
  },
  {
   "cell_type": "code",
   "execution_count": 98,
   "id": "b870b6e7",
   "metadata": {},
   "outputs": [],
   "source": [
    "text=[\"This was a very bad movie no one should ever watch it\"]"
   ]
  },
  {
   "cell_type": "code",
   "execution_count": 99,
   "id": "5d89d469",
   "metadata": {},
   "outputs": [],
   "source": [
    "text = cv.transform(text)"
   ]
  },
  {
   "cell_type": "code",
   "execution_count": 100,
   "id": "4cbc230a",
   "metadata": {},
   "outputs": [
    {
     "data": {
      "text/plain": [
       "array(['negative'], dtype='<U8')"
      ]
     },
     "execution_count": 100,
     "metadata": {},
     "output_type": "execute_result"
    }
   ],
   "source": [
    "lb.inverse_transform(lr.predict(text))"
   ]
  },
  {
   "cell_type": "code",
   "execution_count": 103,
   "id": "e1ebbd5c",
   "metadata": {},
   "outputs": [],
   "source": [
    "# Training for Tf-Idf Vectors\n",
    "\n",
    "lr=LogisticRegression(max_iter=512,random_state=14)\n",
    "\n",
    "tv_model = lr.fit(tv_train_reviews,train_sentiment)"
   ]
  },
  {
   "cell_type": "code",
   "execution_count": 115,
   "id": "c925f630",
   "metadata": {},
   "outputs": [],
   "source": [
    "tv_predict = lr.predict(tv_test_reviews)"
   ]
  },
  {
   "cell_type": "code",
   "execution_count": 116,
   "id": "e76e5e5d",
   "metadata": {},
   "outputs": [],
   "source": [
    "tv_report = classification_report(test_sentiment,tv_predict,target_names=['Positive','Negative'])"
   ]
  },
  {
   "cell_type": "code",
   "execution_count": 117,
   "id": "4b105290",
   "metadata": {},
   "outputs": [
    {
     "name": "stdout",
     "output_type": "stream",
     "text": [
      "              precision    recall  f1-score   support\n",
      "\n",
      "    Positive       0.76      0.75      0.75      5017\n",
      "    Negative       0.75      0.76      0.76      4983\n",
      "\n",
      "    accuracy                           0.76     10000\n",
      "   macro avg       0.76      0.76      0.76     10000\n",
      "weighted avg       0.76      0.76      0.76     10000\n",
      "\n"
     ]
    }
   ],
   "source": [
    "print(tv_report)"
   ]
  },
  {
   "cell_type": "code",
   "execution_count": 118,
   "id": "9f687556",
   "metadata": {},
   "outputs": [
    {
     "data": {
      "text/plain": [
       "<AxesSubplot:>"
      ]
     },
     "execution_count": 118,
     "metadata": {},
     "output_type": "execute_result"
    },
    {
     "data": {
      "image/png": "[encoded data removed]",
      "text/plain": [
       "<Figure size 432x288 with 2 Axes>"
      ]
     },
     "metadata": {
      "needs_background": "light"
     },
     "output_type": "display_data"
    }
   ],
   "source": [
    "#confusion matrix for bag of words\n",
    "cv_confusion_matrix=confusion_matrix(test_sentiment,tv_predict,labels=[1,0])\n",
    "sns.heatmap(cv_confusion_matrix,annot=True,fmt = 'd')"
   ]
  },
  {
   "cell_type": "markdown",
   "id": "6cab3017",
   "metadata": {},
   "source": [
    "## Using tensorflow and keras"
   ]
  },
  {
   "cell_type": "code",
   "execution_count": 3,
   "id": "2e027b9e",
   "metadata": {},
   "outputs": [],
   "source": [
    "df = pd.read_csv(\"IMDB Dataset cleaned.csv\")"
   ]
  },
  {
   "cell_type": "code",
   "execution_count": 4,
   "id": "ac57f46c",
   "metadata": {},
   "outputs": [
    {
     "data": {
      "text/html": [
       "<div>\n",
       "<style scoped>\n",
       "    .dataframe tbody tr th:only-of-type {\n",
       "        vertical-align: middle;\n",
       "    }\n",
       "\n",
       "    .dataframe tbody tr th {\n",
       "        vertical-align: top;\n",
       "    }\n",
       "\n",
       "    .dataframe thead th {\n",
       "        text-align: right;\n",
       "    }\n",
       "</style>\n",
       "<table border=\"1\" class=\"dataframe\">\n",
       "  <thead>\n",
       "    <tr style=\"text-align: right;\">\n",
       "      <th></th>\n",
       "      <th>review</th>\n",
       "      <th>sentiment</th>\n",
       "      <th>cleaned_review</th>\n",
       "    </tr>\n",
       "  </thead>\n",
       "  <tbody>\n",
       "    <tr>\n",
       "      <th>0</th>\n",
       "      <td>One of the other reviewers has mentioned that ...</td>\n",
       "      <td>positive</td>\n",
       "      <td>one of the other reviewer have mention that af...</td>\n",
       "    </tr>\n",
       "    <tr>\n",
       "      <th>1</th>\n",
       "      <td>A wonderful little production. &lt;br /&gt;&lt;br /&gt;The...</td>\n",
       "      <td>positive</td>\n",
       "      <td>a wonderful little production the film techniq...</td>\n",
       "    </tr>\n",
       "    <tr>\n",
       "      <th>2</th>\n",
       "      <td>I thought this was a wonderful way to spend ti...</td>\n",
       "      <td>positive</td>\n",
       "      <td>i thought this be a wonderful way to spend tim...</td>\n",
       "    </tr>\n",
       "    <tr>\n",
       "      <th>3</th>\n",
       "      <td>Basically there's a family where a little boy ...</td>\n",
       "      <td>negative</td>\n",
       "      <td>basically there be a family where a little boy...</td>\n",
       "    </tr>\n",
       "    <tr>\n",
       "      <th>4</th>\n",
       "      <td>Petter Mattei's \"Love in the Time of Money\" is...</td>\n",
       "      <td>positive</td>\n",
       "      <td>petter matteis love in the time of money be a ...</td>\n",
       "    </tr>\n",
       "  </tbody>\n",
       "</table>\n",
       "</div>"
      ],
      "text/plain": [
       "                                              review sentiment  \\\n",
       "0  One of the other reviewers has mentioned that ...  positive   \n",
       "1  A wonderful little production. <br /><br />The...  positive   \n",
       "2  I thought this was a wonderful way to spend ti...  positive   \n",
       "3  Basically there's a family where a little boy ...  negative   \n",
       "4  Petter Mattei's \"Love in the Time of Money\" is...  positive   \n",
       "\n",
       "                                      cleaned_review  \n",
       "0  one of the other reviewer have mention that af...  \n",
       "1  a wonderful little production the film techniq...  \n",
       "2  i thought this be a wonderful way to spend tim...  \n",
       "3  basically there be a family where a little boy...  \n",
       "4  petter matteis love in the time of money be a ...  "
      ]
     },
     "execution_count": 4,
     "metadata": {},
     "output_type": "execute_result"
    }
   ],
   "source": [
    "df.head()"
   ]
  },
  {
   "cell_type": "code",
   "execution_count": 5,
   "id": "83ea03b3",
   "metadata": {},
   "outputs": [],
   "source": [
    "# Splitting into train test set\n",
    "x_train,x_test,y_train, y_test = train_test_split(df[\"cleaned_review\"],df[\"sentiment\"],test_size=0.2,random_state=14)"
   ]
  },
  {
   "cell_type": "code",
   "execution_count": 6,
   "id": "bd5fa219",
   "metadata": {},
   "outputs": [
    {
     "name": "stdout",
     "output_type": "stream",
     "text": [
      "40000\n",
      "10000\n",
      "40000\n",
      "10000\n"
     ]
    }
   ],
   "source": [
    "print(len(x_train))\n",
    "print(len(x_test))\n",
    "print(len(y_train))\n",
    "print(len(y_test))"
   ]
  },
  {
   "cell_type": "code",
   "execution_count": 7,
   "id": "90772b93",
   "metadata": {},
   "outputs": [],
   "source": [
    "# Creating a vocab size\n",
    "vocab_size = 40000\n",
    "\n",
    "# word embedding size\n",
    "embedding_dim = 16\n",
    "\n",
    "# Max length of the sequence\n",
    "max_length = 250\n",
    "\n",
    "# Out of vocab token\n",
    "oov_tok = '<OOV>'"
   ]
  },
  {
   "cell_type": "code",
   "execution_count": 8,
   "id": "feebb297",
   "metadata": {},
   "outputs": [],
   "source": [
    "tokenizer = Tokenizer(num_words=vocab_size, oov_token=oov_tok)\n",
    "tokenizer.fit_on_texts(x_train)\n",
    "word_index = tokenizer.word_index"
   ]
  },
  {
   "cell_type": "code",
   "execution_count": 9,
   "id": "8f11d2f4",
   "metadata": {},
   "outputs": [],
   "source": [
    "# Converting text into sequences\n",
    "x_train = tokenizer.texts_to_sequences(x_train)\n",
    "x_test = tokenizer.texts_to_sequences(x_test)\n",
    "\n",
    "# Padding the sequences\n",
    "x_train = pad_sequences(x_train, maxlen=max_length, padding='post', truncating= 'post')\n",
    "x_test = pad_sequences(x_test, maxlen=max_length, padding='post',truncating='post')"
   ]
  },
  {
   "cell_type": "code",
   "execution_count": 10,
   "id": "2494e28f",
   "metadata": {},
   "outputs": [
    {
     "data": {
      "text/plain": [
       "array([[   32,  1592,  5041, ...,     0,     0,     0],\n",
       "       [  279,   212,     3, ...,     0,     0,     0],\n",
       "       [   10,    19,  1806, ...,     0,     0,     0],\n",
       "       ...,\n",
       "       [21739, 15125,  4253, ...,     8,     3,    68],\n",
       "       [  117,  4930,     5, ...,    12,   263,    59],\n",
       "       [    2,    90,  1047, ...,     6,   467, 19590]])"
      ]
     },
     "execution_count": 10,
     "metadata": {},
     "output_type": "execute_result"
    }
   ],
   "source": [
    "x_train"
   ]
  },
  {
   "cell_type": "code",
   "execution_count": 11,
   "id": "9494046d",
   "metadata": {},
   "outputs": [
    {
     "data": {
      "text/plain": [
       "42393    negative\n",
       "33109    positive\n",
       "834      negative\n",
       "23499    positive\n",
       "15111    negative\n",
       "           ...   \n",
       "23910    positive\n",
       "44793    negative\n",
       "22855    negative\n",
       "9484     positive\n",
       "13656    positive\n",
       "Name: sentiment, Length: 40000, dtype: object"
      ]
     },
     "execution_count": 11,
     "metadata": {},
     "output_type": "execute_result"
    }
   ],
   "source": [
    "y_train"
   ]
  },
  {
   "cell_type": "code",
   "execution_count": 12,
   "id": "f70ceed3",
   "metadata": {},
   "outputs": [],
   "source": [
    "# Labelling the data\n",
    "lb = LabelBinarizer()\n",
    "\n",
    "y_train= lb.fit_transform(y_train).reshape(-1)\n",
    "y_test = lb.transform(y_test).reshape(-1)"
   ]
  },
  {
   "cell_type": "code",
   "execution_count": 13,
   "id": "53365987",
   "metadata": {},
   "outputs": [],
   "source": [
    "y_train = np_utils.to_categorical(y_train,2)\n",
    "y_test = np_utils.to_categorical(y_test,2)"
   ]
  },
  {
   "cell_type": "code",
   "execution_count": 14,
   "id": "a3c5e4be",
   "metadata": {},
   "outputs": [],
   "source": [
    "model = Sequential()\n",
    "model.add(Embedding(vocab_size, embedding_dim,input_length=max_length))\n",
    "model.add(GlobalAveragePooling1D())\n",
    "model.add(Dense(32,activation = 'relu'))\n",
    "model.add(Dense(2,activation=\"softmax\"))"
   ]
  },
  {
   "cell_type": "code",
   "execution_count": 15,
   "id": "e2bd18a3",
   "metadata": {},
   "outputs": [],
   "source": [
    "model.compile(optimizer='adam',loss='categorical_crossentropy',metrics=['accuracy'])"
   ]
  },
  {
   "cell_type": "code",
   "execution_count": 16,
   "id": "4e61cd1a",
   "metadata": {},
   "outputs": [
    {
     "name": "stdout",
     "output_type": "stream",
     "text": [
      "Model: \"sequential\"\n",
      "_________________________________________________________________\n",
      "Layer (type)                 Output Shape              Param #   \n",
      "=================================================================\n",
      "embedding (Embedding)        (None, 250, 16)           640000    \n",
      "_________________________________________________________________\n",
      "global_average_pooling1d (Gl (None, 16)                0         \n",
      "_________________________________________________________________\n",
      "dense (Dense)                (None, 32)                544       \n",
      "_________________________________________________________________\n",
      "dense_1 (Dense)              (None, 2)                 66        \n",
      "=================================================================\n",
      "Total params: 640,610\n",
      "Trainable params: 640,610\n",
      "Non-trainable params: 0\n",
      "_________________________________________________________________\n"
     ]
    }
   ],
   "source": [
    "model.summary()"
   ]
  },
  {
   "cell_type": "code",
   "execution_count": 17,
   "id": "b64c997f",
   "metadata": {
    "scrolled": false
   },
   "outputs": [
    {
     "name": "stdout",
     "output_type": "stream",
     "text": [
      "Epoch 1/10\n",
      "1250/1250 [==============================] - 19s 6ms/step - loss: 0.5340 - accuracy: 0.7307\n",
      "Epoch 2/10\n",
      "1250/1250 [==============================] - 8s 7ms/step - loss: 0.2336 - accuracy: 0.9077\n",
      "Epoch 3/10\n",
      "1250/1250 [==============================] - 8s 6ms/step - loss: 0.1703 - accuracy: 0.9378\n",
      "Epoch 4/10\n",
      "1250/1250 [==============================] - 8s 6ms/step - loss: 0.1271 - accuracy: 0.9573\n",
      "Epoch 5/10\n",
      "1250/1250 [==============================] - 8s 6ms/step - loss: 0.0935 - accuracy: 0.9702\n",
      "Epoch 6/10\n",
      "1250/1250 [==============================] - 8s 6ms/step - loss: 0.0731 - accuracy: 0.9765\n",
      "Epoch 7/10\n",
      "1250/1250 [==============================] - 8s 6ms/step - loss: 0.0575 - accuracy: 0.9831\n",
      "Epoch 8/10\n",
      "1250/1250 [==============================] - 8s 6ms/step - loss: 0.0429 - accuracy: 0.9864\n",
      "Epoch 9/10\n",
      "1250/1250 [==============================] - 8s 6ms/step - loss: 0.0320 - accuracy: 0.9914\n",
      "Epoch 10/10\n",
      "1250/1250 [==============================] - 8s 6ms/step - loss: 0.0249 - accuracy: 0.9930\n"
     ]
    }
   ],
   "source": [
    "num_epochs = 10\n",
    "history = model.fit(x_train, y_train, epochs=num_epochs)"
   ]
  },
  {
   "cell_type": "code",
   "execution_count": 18,
   "id": "48bfdeae",
   "metadata": {
    "scrolled": true
   },
   "outputs": [
    {
     "name": "stdout",
     "output_type": "stream",
     "text": [
      "313/313 [==============================] - 1s 2ms/step - loss: 0.6725 - accuracy: 0.8596\n",
      "Accuracy:  0.8596000075340271\n"
     ]
    }
   ],
   "source": [
    "accuracy = model.evaluate(x=x_test,y=y_test,batch_size=32)\n",
    "print(\"Accuracy: \",accuracy[1])"
   ]
  },
  {
   "cell_type": "code",
   "execution_count": 19,
   "id": "d1a22298",
   "metadata": {},
   "outputs": [
    {
     "data": {
      "text/plain": [
       "array([1, 1, 1, ..., 1, 0, 1], dtype=int64)"
      ]
     },
     "execution_count": 19,
     "metadata": {},
     "output_type": "execute_result"
    }
   ],
   "source": [
    "np.argmax(model.predict(x_test),axis=1)"
   ]
  },
  {
   "cell_type": "code",
   "execution_count": 20,
   "id": "c1fdfc20",
   "metadata": {
    "scrolled": true
   },
   "outputs": [
    {
     "data": {
      "text/plain": [
       "<AxesSubplot:>"
      ]
     },
     "execution_count": 20,
     "metadata": {},
     "output_type": "execute_result"
    },
    {
     "data": {
      "image/png": "[encoded data removed]",
      "text/plain": [
       "<Figure size 432x288 with 2 Axes>"
      ]
     },
     "metadata": {
      "needs_background": "light"
     },
     "output_type": "display_data"
    }
   ],
   "source": [
    "results = np.argmax(model.predict(x_test),axis =1)\n",
    "y_test_matrix = np.argmax(y_test, axis = 1)\n",
    "\n",
    "cv_confusion_matrix=confusion_matrix(results,y_test_matrix,labels=[1,0])\n",
    "sns.heatmap(cv_confusion_matrix,annot=True,fmt = 'd')"
   ]
  },
  {
   "cell_type": "markdown",
   "id": "605bb2b2",
   "metadata": {},
   "source": [
    "#### Testing on random text"
   ]
  },
  {
   "cell_type": "code",
   "execution_count": 21,
   "id": "eee7ec80",
   "metadata": {},
   "outputs": [],
   "source": [
    "text = [\"this was a really bad movie no one should ever watch it\",\n",
    "        \"the best movie ever no movie can match this\"]"
   ]
  },
  {
   "cell_type": "code",
   "execution_count": 22,
   "id": "63c0dc2b",
   "metadata": {},
   "outputs": [],
   "source": [
    "text = tokenizer.texts_to_sequences(text)\n",
    "text = pad_sequences(text, maxlen=max_length, padding='post', truncating= 'post')\n",
    "results = model.predict(text)"
   ]
  },
  {
   "cell_type": "code",
   "execution_count": 23,
   "id": "6be8f2a8",
   "metadata": {},
   "outputs": [
    {
     "data": {
      "text/plain": [
       "array(['negative', 'positive'], dtype='<U8')"
      ]
     },
     "execution_count": 23,
     "metadata": {},
     "output_type": "execute_result"
    }
   ],
   "source": [
    "lb.inverse_transform(np.argmax(results,axis=1))"
   ]
  },
  {
   "cell_type": "code",
   "execution_count": 24,
   "id": "7dc0d58d",
   "metadata": {},
   "outputs": [],
   "source": [
    "# Saving the model\n",
    "model.save('basic_keras_model.h5')\n",
    "\n",
    "# Saving the Toneknizer\n",
    "f =  open(\"tokenizer.pkl\",\"wb\")\n",
    "pickle.dump(tokenizer,f)\n",
    "f.close()"
   ]
  },
  {
   "cell_type": "code",
   "execution_count": 25,
   "id": "2c994fd1",
   "metadata": {},
   "outputs": [],
   "source": [
    "# Loading the saved model\n",
    "model = load_model('basic_keras_model.h5')\n",
    "\n",
    "# Loading the tokenizer\n",
    "f = open(\"tokenizer.pkl\",\"rb\")\n",
    "tokenizer = pickle.load(open(\"tokenizer.pkl\",\"rb\"))    "
   ]
  },
  {
   "cell_type": "code",
   "execution_count": 26,
   "id": "791a7cc5",
   "metadata": {},
   "outputs": [
    {
     "data": {
      "text/plain": [
       "array(['negative', 'positive'], dtype='<U8')"
      ]
     },
     "execution_count": 26,
     "metadata": {},
     "output_type": "execute_result"
    }
   ],
   "source": [
    "text = [\"this was a really bad movie no one should ever watch it\",\n",
    "        \"the best movie ever no movie can match this\"]\n",
    "text = tokenizer.texts_to_sequences(text)\n",
    "text = pad_sequences(text, maxlen=max_length, padding='post', truncating= 'post')\n",
    "results = model.predict(text)\n",
    "lb.inverse_transform(np.argmax(results,axis=1))"
   ]
  },
  {
   "cell_type": "code",
   "execution_count": null,
   "id": "97ab1227",
   "metadata": {},
   "outputs": [],
   "source": []
  }
 ],
 "metadata": {
  "kernelspec": {
   "display_name": "Python 3 (ipykernel)",
   "language": "python",
   "name": "python3"
  },
  "language_info": {
   "codemirror_mode": {
    "name": "ipython",
    "version": 3
   },
   "file_extension": ".py",
   "mimetype": "text/x-python",
   "name": "python",
   "nbconvert_exporter": "python",
   "pygments_lexer": "ipython3",
   "version": "3.9.6"
  }
 },
 "nbformat": 4,
 "nbformat_minor": 5
}
